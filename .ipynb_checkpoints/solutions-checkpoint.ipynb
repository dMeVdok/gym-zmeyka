{
 "cells": [
  {
   "cell_type": "markdown",
   "metadata": {},
   "source": [
    "## Hi, this is a notebook with some solutions of the A. Shen's tasks\n",
    "#### dmevdok@gmail.com"
   ]
  },
  {
   "cell_type": "code",
   "execution_count": 2,
   "metadata": {},
   "outputs": [
    {
     "data": {
      "text/plain": [
       "(10, 5)"
      ]
     },
     "execution_count": 2,
     "metadata": {},
     "output_type": "execute_result"
    }
   ],
   "source": [
    "# 1\n",
    "\n",
    "a = 5\n",
    "b = 10\n",
    "\n",
    "c = a\n",
    "a = b\n",
    "b = c\n",
    "\n",
    "(a,b)"
   ]
  },
  {
   "cell_type": "code",
   "execution_count": 24,
   "metadata": {},
   "outputs": [
    {
     "data": {
      "text/plain": [
       "(31, 13)"
      ]
     },
     "execution_count": 24,
     "metadata": {},
     "output_type": "execute_result"
    }
   ],
   "source": [
    "# 2\n",
    "\n",
    "a = 13\n",
    "b = 31\n",
    "\n",
    "a = a + b\n",
    "b = a - b\n",
    "a = a - b\n",
    "\n",
    "(a,b)"
   ]
  },
  {
   "cell_type": "code",
   "execution_count": 28,
   "metadata": {},
   "outputs": [
    {
     "data": {
      "text/plain": [
       "125"
      ]
     },
     "execution_count": 28,
     "metadata": {},
     "output_type": "execute_result"
    }
   ],
   "source": [
    "# 3\n",
    "\n",
    "def power(a,n):\n",
    "    r = 1\n",
    "    for i in range(n):\n",
    "        r *= a\n",
    "    return r\n",
    "\n",
    "power(5,3)"
   ]
  },
  {
   "cell_type": "code",
   "execution_count": 36,
   "metadata": {},
   "outputs": [
    {
     "data": {
      "text/plain": [
       "78125"
      ]
     },
     "execution_count": 36,
     "metadata": {},
     "output_type": "execute_result"
    }
   ],
   "source": [
    "# 4\n",
    "\n",
    "def power_Ologn(a,n):\n",
    "    k = n\n",
    "    b = 1\n",
    "    c = a\n",
    "    while k != 0:\n",
    "        if k % 2 == 0:\n",
    "            c = c * c\n",
    "            k = k // 2\n",
    "        else:\n",
    "            b = b * c\n",
    "            k -= 1\n",
    "    return b\n",
    "\n",
    "power_Ologn(5,7)\n",
    "\n",
    "# 5^7 = 5*5^6 = 5*25^3=5*5*25^2=5*5*25*25"
   ]
  },
  {
   "cell_type": "code",
   "execution_count": 39,
   "metadata": {},
   "outputs": [
    {
     "data": {
      "text/plain": [
       "15"
      ]
     },
     "execution_count": 39,
     "metadata": {},
     "output_type": "execute_result"
    }
   ],
   "source": [
    "# 5\n",
    "\n",
    "def multiplication(a,b):\n",
    "    r = 0\n",
    "    for i in range(b):\n",
    "        r += a\n",
    "    return r\n",
    "\n",
    "multiplication(5,3)"
   ]
  },
  {
   "cell_type": "code",
   "execution_count": 41,
   "metadata": {},
   "outputs": [
    {
     "data": {
      "text/plain": [
       "9"
      ]
     },
     "execution_count": 41,
     "metadata": {},
     "output_type": "execute_result"
    }
   ],
   "source": [
    "# 6\n",
    "\n",
    "def strange_sum(a,b):\n",
    "    k = a\n",
    "    c = 0\n",
    "    while c!=b:\n",
    "        c += 1\n",
    "        k += 1\n",
    "    return k\n",
    "\n",
    "strange_sum(5,4)"
   ]
  },
  {
   "cell_type": "code",
   "execution_count": 48,
   "metadata": {},
   "outputs": [
    {
     "data": {
      "text/plain": [
       "(31, 1)"
      ]
     },
     "execution_count": 48,
     "metadata": {},
     "output_type": "execute_result"
    }
   ],
   "source": [
    "# 7\n",
    "\n",
    "def nodivmod(a,d):\n",
    "    q=0\n",
    "    while a>=d:\n",
    "        a-=d\n",
    "        q+=1\n",
    "    r=a\n",
    "    return (q,r)\n",
    "\n",
    "nodivmod(125,4)"
   ]
  },
  {
   "cell_type": "code",
   "execution_count": 65,
   "metadata": {},
   "outputs": [
    {
     "data": {
      "text/plain": [
       "120"
      ]
     },
     "execution_count": 65,
     "metadata": {},
     "output_type": "execute_result"
    }
   ],
   "source": [
    "# 8\n",
    "\n",
    "def factorial(n):\n",
    "    r = 1\n",
    "    c = 1\n",
    "    while c<=n:\n",
    "        r *= c\n",
    "        c += 1\n",
    "    return r\n",
    "\n",
    "factorial(5)"
   ]
  },
  {
   "cell_type": "code",
   "execution_count": 86,
   "metadata": {},
   "outputs": [
    {
     "data": {
      "text/plain": [
       "5"
      ]
     },
     "execution_count": 86,
     "metadata": {},
     "output_type": "execute_result"
    }
   ],
   "source": [
    "# 9\n",
    "\n",
    "def fibon(n):\n",
    "    a = 0\n",
    "    b = 1\n",
    "    c = 1\n",
    "    d = 2\n",
    "    if n == 0: return 0\n",
    "    if n == 1: return 1\n",
    "    while d < n:\n",
    "        a = b\n",
    "        b = c\n",
    "        c = a+b\n",
    "        d += 1\n",
    "    return c\n",
    "\n",
    "fibon(5)"
   ]
  },
  {
   "cell_type": "code",
   "execution_count": 88,
   "metadata": {},
   "outputs": [
    {
     "data": {
      "text/plain": [
       "5"
      ]
     },
     "execution_count": 88,
     "metadata": {},
     "output_type": "execute_result"
    }
   ],
   "source": [
    "# 10\n",
    "\n",
    "def mulmat(a,b,c,d,e,f,g,h):\n",
    "    return (a*e+b*g, a*f+d*h, c*e+d*g, c*f+d*h)\n",
    "\n",
    "def powermat_Ologn(a1,a2,a3,a4,n):\n",
    "    k = n\n",
    "    b1 = 1\n",
    "    b2 = 0\n",
    "    b3 = 1\n",
    "    b4 = 0\n",
    "    c1 = a1\n",
    "    c2 = a2\n",
    "    c3 = a3\n",
    "    c4 = a4\n",
    "    while k != 0:\n",
    "        if k % 2 == 0:\n",
    "            c1, c2, c3, c4 = mulmat(c1,c2,c3,c4,c1,c2,c3,c4)\n",
    "            k = k // 2\n",
    "        else:\n",
    "            b1, b2, b3, b4 = mulmat (b1,b2,b3,b4,c1,c2,c3,c4)\n",
    "            k -= 1\n",
    "    return (b1,b2,b3,b4)\n",
    "\n",
    "def fibon_Ologn(n):\n",
    "    f0 = 0\n",
    "    f1 = 1\n",
    "    a, b, c, d = powermat_Ologn(1,1,1,0,n)\n",
    "    return d\n",
    "\n",
    "fibon_Ologn(5)"
   ]
  },
  {
   "cell_type": "code",
   "execution_count": 95,
   "metadata": {},
   "outputs": [
    {
     "data": {
      "text/plain": [
       "3.708333333333333"
      ]
     },
     "execution_count": 95,
     "metadata": {},
     "output_type": "execute_result"
    }
   ],
   "source": [
    "# 11, 12\n",
    "\n",
    "def suminvfact(n):\n",
    "    s = 0\n",
    "    k = 1\n",
    "    f = 1\n",
    "    while k<=n:\n",
    "        s = s + 1/f\n",
    "        f *= k\n",
    "        k += 1\n",
    "    return 1+s\n",
    "\n",
    "suminvfact(5)"
   ]
  },
  {
   "cell_type": "code",
   "execution_count": 99,
   "metadata": {},
   "outputs": [
    {
     "data": {
      "text/plain": [
       "5"
      ]
     },
     "execution_count": 99,
     "metadata": {},
     "output_type": "execute_result"
    }
   ],
   "source": [
    "# 13.1\n",
    "\n",
    "def gcd_hard(a,b):\n",
    "    if a<b:\n",
    "        k = a\n",
    "    else:\n",
    "        k = b\n",
    "    while not (a%k==0 and b%k==0):\n",
    "        k-=1\n",
    "    return k\n",
    "\n",
    "gcd_hard(10,15)"
   ]
  },
  {
   "cell_type": "code",
   "execution_count": 101,
   "metadata": {},
   "outputs": [
    {
     "data": {
      "text/plain": [
       "5"
      ]
     },
     "execution_count": 101,
     "metadata": {},
     "output_type": "execute_result"
    }
   ],
   "source": [
    "# 13.2\n",
    "\n",
    "def gcd_euclid(a,b):\n",
    "    m, n = a, b\n",
    "    while not (m==0 or n==0):\n",
    "        if m>=n:\n",
    "            m = m - n\n",
    "        else:\n",
    "            n = n - m\n",
    "    if m == 0:\n",
    "        return n\n",
    "    else:\n",
    "        return m\n",
    "    \n",
    "gcd_euclid(10,15)"
   ]
  },
  {
   "cell_type": "code",
   "execution_count": 1,
   "metadata": {},
   "outputs": [
    {
     "data": {
      "text/plain": [
       "5"
      ]
     },
     "execution_count": 1,
     "metadata": {},
     "output_type": "execute_result"
    }
   ],
   "source": [
    "# 14\n",
    "\n",
    "def gcd_euclid_mod(a,b):\n",
    "    m, n = a, b\n",
    "    while not (m==0 or n==0):\n",
    "        if m>=n:\n",
    "            m = m % n\n",
    "        else:\n",
    "            n = n % m\n",
    "    if m == 0:\n",
    "        return n\n",
    "    else:\n",
    "        return m\n",
    "    \n",
    "gcd_euclid_mod(10,15)"
   ]
  },
  {
   "cell_type": "code",
   "execution_count": 4,
   "metadata": {},
   "outputs": [
    {
     "data": {
      "text/plain": [
       "(5, -1, 1)"
      ]
     },
     "execution_count": 4,
     "metadata": {},
     "output_type": "execute_result"
    }
   ],
   "source": [
    "# 15\n",
    "\n",
    "def gcd_euclid_pqrs(a,b):\n",
    "    m, n = a, b\n",
    "    p, q, r, s = 1, 0, 0, 1\n",
    "    while not (m==0 or n==0):\n",
    "        if m>=n:\n",
    "            m = m - n\n",
    "            p = p - r\n",
    "            q = q - s\n",
    "        else:\n",
    "            n = n - m\n",
    "            r = r - p\n",
    "            s = s - q\n",
    "    if m == 0:\n",
    "        return (n,r,s)\n",
    "    else:\n",
    "        return (m,p,q)\n",
    "    \n",
    "gcd_euclid_pqrs(10,15)\n"
   ]
  },
  {
   "cell_type": "code",
   "execution_count": 12,
   "metadata": {},
   "outputs": [
    {
     "data": {
      "text/plain": [
       "(5, -1, 1)"
      ]
     },
     "execution_count": 12,
     "metadata": {},
     "output_type": "execute_result"
    }
   ],
   "source": [
    "# 16\n",
    "\n",
    "def gcd_euclid_pqrs_mod(a,b):\n",
    "    m, n = a, b\n",
    "    p, q, r, s, k = 1, 0, 0, 1, 1\n",
    "    while not (m==0 or n==0):\n",
    "        if m>=n:\n",
    "            m = m % n\n",
    "            p = p - k*r\n",
    "            q = q - k*s\n",
    "        else:\n",
    "            n = n % m\n",
    "            r = r - k*p\n",
    "            s = s - k*q\n",
    "        k+=1\n",
    "    if m == 0:\n",
    "        return (n,r,s)\n",
    "    else:\n",
    "        return (m,p,q)\n",
    "    \n",
    "gcd_euclid_pqrs_mod(10,15)"
   ]
  },
  {
   "cell_type": "code",
   "execution_count": 14,
   "metadata": {},
   "outputs": [
    {
     "data": {
      "text/plain": [
       "60"
      ]
     },
     "execution_count": 14,
     "metadata": {},
     "output_type": "execute_result"
    }
   ],
   "source": [
    "# 17\n",
    "\n",
    "def lcm2_euclid_deikstra(a,b):\n",
    "    m, n = a, b\n",
    "    u, v = b, a\n",
    "    while not (m==0 or n==0):\n",
    "        if m>=n:\n",
    "            m = m - n\n",
    "            v = v + u\n",
    "        else:\n",
    "            n = n - m\n",
    "            u = u + v\n",
    "    if m==0:\n",
    "        return v\n",
    "    else:\n",
    "        return u\n",
    "    \n",
    "\n",
    "    \n",
    "lcm2_euclid_deikstra(10,15)"
   ]
  }
 ],
 "metadata": {
  "kernelspec": {
   "display_name": "Python 3",
   "language": "python",
   "name": "python3"
  },
  "language_info": {
   "codemirror_mode": {
    "name": "ipython",
    "version": 3
   },
   "file_extension": ".py",
   "mimetype": "text/x-python",
   "name": "python",
   "nbconvert_exporter": "python",
   "pygments_lexer": "ipython3",
   "version": "3.5.2"
  }
 },
 "nbformat": 4,
 "nbformat_minor": 2
}
