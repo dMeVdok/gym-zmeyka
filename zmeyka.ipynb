{
 "cells": [
  {
   "cell_type": "markdown",
   "metadata": {},
   "source": [
    "## gym-zmeyka\n",
    "\n",
    "only one snake and no parameters yet\n",
    "\n",
    "```actions:\n",
    "* 0 - Turn left\n",
    "* 1 - Turn right\n",
    "* 2 - Do nothing (keep going forward)\n",
    "\n",
    "observation = [ pixels:list[list] , [A,B,C,D,E] ]\n",
    "* A - pixel to in front of the snake's head\n",
    "* B - pixel to the left of the snake's head\n",
    "* C - pixel to the right of the snake's head\n",
    "* D - is the food to the left (-1), to the right (1) or in front (0) of the snake's head?\n",
    "* E - direction of the snake = [left, right, up, down].index(E)  \n",
    "\n",
    "pixels:\n",
    "\n",
    "* 0 - free space\n",
    "* 1 - snake and borders\n",
    "* 2 - food\n",
    "```\n",
    "\n",
    "\n",
    "\n",
    "have fun!"
   ]
  },
  {
   "cell_type": "code",
   "execution_count": null,
   "metadata": {},
   "outputs": [
    {
     "data": {
      "image/png": "[encoded data removed]",
      "text/plain": [
       "<matplotlib.figure.Figure at 0x7fce34449668>"
      ]
     },
     "metadata": {},
     "output_type": "display_data"
    }
   ],
   "source": [
    "# some baseline learning\n",
    "\n",
    "import gym\n",
    "import gym_zmeyka\n",
    "import matplotlib\n",
    "import matplotlib.pyplot as plt\n",
    "from IPython import display\n",
    "import itertools\n",
    "from sklearn import neural_network, neighbors\n",
    "import random\n",
    "\n",
    "%matplotlib inline\n",
    "\n",
    "matplotlib.rcParams['figure.figsize'] = (5,5)\n",
    "\n",
    "env = gym.make('zmeyka-v0')\n",
    "last_reward = 200\n",
    "last_obs = []\n",
    "\n",
    "make_random = True\n",
    "\n",
    "clf = neighbors.KNeighborsClassifier(1)\n",
    "\n",
    "X, y = [], []\n",
    "\n",
    "for i in range(100):\n",
    "    env.reset()\n",
    "    while(True):\n",
    "        env.render()\n",
    "        if not make_random:\n",
    "            improper_action = clf.predict([last_obs])\n",
    "            predicted_action = random.choice([i for i in [0,1,2] if i!=improper_action])\n",
    "        else:\n",
    "            if random.random() > 0.8:\n",
    "                predicted_action = 2\n",
    "            else:\n",
    "                predicted_action = random.choice([0,1])         \n",
    "        current_obs, current_reward, done, info = env.step(predicted_action)\n",
    "        if current_reward < last_reward and len(last_obs)>0:\n",
    "            X.append(last_obs)\n",
    "            y.append(predicted_action) \n",
    "            clf.fit(X,y)\n",
    "            make_random = False\n",
    "        else:\n",
    "            make_random = True\n",
    "        last_obs = current_obs[1]\n",
    "        last_reward = current_reward\n",
    "        if done: break"
   ]
  }
 ],
 "metadata": {
  "kernelspec": {
   "display_name": "Python 3",
   "language": "python",
   "name": "python3"
  },
  "language_info": {
   "codemirror_mode": {
    "name": "ipython",
    "version": 3
   },
   "file_extension": ".py",
   "mimetype": "text/x-python",
   "name": "python",
   "nbconvert_exporter": "python",
   "pygments_lexer": "ipython3",
   "version": "3.5.2"
  }
 },
 "nbformat": 4,
 "nbformat_minor": 2
}
